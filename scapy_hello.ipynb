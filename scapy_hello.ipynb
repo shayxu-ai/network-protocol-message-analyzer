{
 "metadata": {
  "language_info": {
   "codemirror_mode": {
    "name": "ipython",
    "version": 3
   },
   "file_extension": ".py",
   "mimetype": "text/x-python",
   "name": "python",
   "nbconvert_exporter": "python",
   "pygments_lexer": "ipython3",
   "version": "3.7.8-final"
  },
  "orig_nbformat": 2,
  "kernelspec": {
   "name": "python3",
   "display_name": "Python 3",
   "language": "python"
  }
 },
 "nbformat": 4,
 "nbformat_minor": 2,
 "cells": [
  {
   "cell_type": "code",
   "execution_count": 1,
   "metadata": {},
   "outputs": [],
   "source": [
    "from scapy.all import *"
   ]
  },
  {
   "cell_type": "code",
   "execution_count": 4,
   "metadata": {},
   "outputs": [
    {
     "output_type": "execute_result",
     "data": {
      "text/plain": [
       "<Ether  dst=10:dc:4a:a0:71:01 src=50:7b:9d:c7:da:fb type=IPv4 |<IP  version=4 ihl=5 tos=0x0 len=40 id=45366 flags=DF frag=0 ttl=64 proto=tcp chksum=0x0 src=192.168.1.108 dst=211.157.167.116 |<TCP  sport=54915 dport=http seq=1622363918 ack=3707857623 dataofs=5 reserved=0 flags=FA window=511 chksum=0x3d41 urgptr=0 |>>>"
      ]
     },
     "metadata": {},
     "execution_count": 4
    }
   ],
   "source": [
    "filename = \"朝歌组播机顶盒开机包.pcapng\"\n",
    "pcap_p = rdpcap(filename)"
   ]
  },
  {
   "cell_type": "code",
   "execution_count": 49,
   "metadata": {},
   "outputs": [
    {
     "output_type": "execute_result",
     "data": {
      "text/plain": [
       "'192.168.1.108'"
      ]
     },
     "metadata": {},
     "execution_count": 49
    }
   ],
   "source": [
    "pcap_p[723][IP].src"
   ]
  },
  {
   "cell_type": "code",
   "execution_count": 36,
   "metadata": {},
   "outputs": [
    {
     "output_type": "stream",
     "name": "stdout",
     "text": [
      "dst        : DestMACField                        = '10:dc:4a:a0:71:01' (None)\nsrc        : SourceMACField                      = '50:7b:9d:c7:da:fb' (None)\ntype       : XShortEnumField                     = 2048            (36864)\n--\nversion    : BitField  (4 bits)                  = 4               (4)\nihl        : BitField  (4 bits)                  = 5               (None)\ntos        : XByteField                          = 0               (0)\nlen        : ShortField                          = 655             (None)\nid         : ShortField                          = 45369           (1)\nflags      : FlagsField  (3 bits)                = <Flag 2 (DF)>   (<Flag 0 ()>)\nfrag       : BitField  (13 bits)                 = 0               (0)\nttl        : ByteField                           = 64              (64)\nproto      : ByteEnumField                       = 6               (0)\nchksum     : XShortField                         = 0               (None)\nsrc        : SourceIPField                       = '192.168.1.108' (None)\ndst        : DestIPField                         = '211.157.167.116' (None)\noptions    : PacketListField                     = []              ([])\n--\nsport      : ShortEnumField                      = 54926           (20)\ndport      : ShortEnumField                      = 80              (80)\nseq        : IntField                            = 1799118846      (0)\nack        : IntField                            = 2620703208      (0)\ndataofs    : BitField  (4 bits)                  = 5               (None)\nreserved   : BitField  (3 bits)                  = 0               (0)\nflags      : FlagsField  (9 bits)                = <Flag 24 (PA)>  (<Flag 2 (S)>)\nwindow     : ShortField                          = 512             (8192)\nchksum     : XShortField                         = 16296           (None)\nurgptr     : ShortField                          = 0               (0)\noptions    : TCPOptionsField                     = []              (b'')\n--\nload       : StrField                            = b'GET /seeyon/getAJAXMessageServlet?V=0.5277636988145165 HTTP/1.1\\r\\nHost: moa.sunniwell.net\\r\\nConnection: keep-alive\\r\\nRequestType: AJAX\\r\\nUser-Agent: Mozilla/5.0 (Windows NT 10.0; WOW64) AppleWebKit/537.36 (KHTML, like Gecko) Chrome/78.0.3904.108 Safari/537.36\\r\\nContent-Type: application/x-www-form-urlencoded;charset=UTF-8\\r\\nAccept: */*\\r\\nReferer: http://moa.sunniwell.net/seeyon/main.do?method=main\\r\\nAccept-Encoding: gzip, deflate\\r\\nAccept-Language: zh-CN,zh;q=0.9\\r\\nCookie: SESSIONID=lfcbaaaiecjmoppp; JSESSIONID=2256FB4FDF5D9B06EF6B7808DFB19DE1; login_locale=zh_CN; avatarImageUrl=-3074554492966582379; loginPageURL=\\r\\n\\r\\n' (b'')\n"
     ]
    }
   ],
   "source": [
    "ls(pcap_p[723])"
   ]
  },
  {
   "cell_type": "code",
   "execution_count": 56,
   "metadata": {
    "tags": []
   },
   "outputs": [
    {
     "output_type": "stream",
     "name": "stdout",
     "text": [
      "No.\tIP.src\t\t\tIP.dst\t\t\tTCP.flags\tTCP.dport\tnote\n1\t192.168.1.108\t\t211.157.167.116\t\tFA\t\thttp\t\tmoa.sunniwell.net/seeyon/getAJAXMessageServlet\n5\t211.157.167.116\t\t192.168.1.108\t\tA\t\t54915\t\tmoa.sunniwell.net/seeyon/getAJAXMessageServlet\n717\t192.168.1.108\t\t211.157.167.116\t\tS\t\thttp\t\tmoa.sunniwell.net/seeyon/getAJAXMessageServlet\n722\t211.157.167.116\t\t192.168.1.108\t\tSA\t\t54926\t\tmoa.sunniwell.net/seeyon/getAJAXMessageServlet\n723\t192.168.1.108\t\t211.157.167.116\t\tA\t\thttp\t\tmoa.sunniwell.net/seeyon/getAJAXMessageServlet\n724\t192.168.1.108\t\t211.157.167.116\t\tPA\t\thttp\t\tmoa.sunniwell.net/seeyon/getAJAXMessageServlet\n727\t211.157.167.116\t\t192.168.1.108\t\tPA\t\t54926\t\tmoa.sunniwell.net/seeyon/getAJAXMessageServlet\n733\t192.168.1.108\t\t211.157.167.116\t\tA\t\thttp\t\tmoa.sunniwell.net/seeyon/getAJAXMessageServlet\n1818\t211.157.167.116\t\t192.168.1.108\t\tFA\t\t54926\t\tmoa.sunniwell.net/seeyon/getAJAXMessageServlet\n1819\t192.168.1.108\t\t211.157.167.116\t\tA\t\thttp\t\tmoa.sunniwell.net/seeyon/getAJAXMessageServlet\n4462\t192.168.1.108\t\t211.157.167.116\t\tFA\t\thttp\t\tmoa.sunniwell.net/seeyon/getAJAXMessageServlet\n4470\t211.157.167.116\t\t192.168.1.108\t\tA\t\t54926\t\tmoa.sunniwell.net/seeyon/getAJAXMessageServlet\n"
     ]
    }
   ],
   "source": [
    "# %Raw.load%\n",
    "print(\"No.\\tIP.src\\t\\t\\tIP.dst\\t\\t\\tTCP.flags\\tTCP.dport\\tnote\")\n",
    "for i, p in enumerate(pcap_p):\n",
    "    if \"211.157.167.116\" in p.sprintf(\"%IP.src% %IP.dst%\"):\n",
    "        print(str(i+1) + '\\t' + p.sprintf(\"%IP.src%\\t\\t%IP.dst%\\t\\t%TCP.flags%\\t\\t%TCP.dport%\") + '\\t\\tmoa.sunniwell.net/seeyon/getAJAXMessageServlet')"
   ]
  },
  {
   "cell_type": "code",
   "execution_count": null,
   "metadata": {},
   "outputs": [],
   "source": []
  }
 ]
}